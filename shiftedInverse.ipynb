{
 "cells": [
  {
   "cell_type": "code",
   "execution_count": 1,
   "id": "9f024cd4",
   "metadata": {},
   "outputs": [],
   "source": [
    "import math\n",
    "import numpy as np\n",
    "\n",
    "import mysql.connector"
   ]
  },
  {
   "cell_type": "code",
   "execution_count": 2,
   "id": "5617a4f3",
   "metadata": {},
   "outputs": [],
   "source": [
    "def get_query_tuple(query):\n",
    "    mydb = mysql.connector.connect(\n",
    "        host='localhost',\n",
    "        user='root',\n",
    "        password='123456',\n",
    "        database='data_mini',\n",
    "        auth_plugin='mysql_native_password'\n",
    "    )\n",
    "    cursor = mydb.cursor()\n",
    "    cursor.execute(query)\n",
    "    return cursor.fetchall()"
   ]
  },
  {
   "cell_type": "code",
   "execution_count": 14,
   "id": "6a4bd84b",
   "metadata": {},
   "outputs": [],
   "source": [
    "def countSum(t, tau):\n",
    "    f = [0] * (2 * tau + 1)\n",
    "    j = 0\n",
    "    \n",
    "    for i in range(len(t)):\n",
    "        if j <= 2 * tau:\n",
    "            f[j] = sum(t[:-j])\n",
    "        else:\n",
    "            return f\n",
    "        j += 1\n",
    "   \n",
    "    return f\n",
    "    "
   ]
  },
  {
   "cell_type": "code",
   "execution_count": 3,
   "id": "b95b1a7e",
   "metadata": {},
   "outputs": [],
   "source": [
    "def k_selection(k, count, t, u, tau):\n",
    "    f_k = [0] * (2 * tau + 1)\n",
    "    j = 0\n",
    "    # Iterate over the instance V\n",
    "    for i in range(len(t)):\n",
    "        # If sum of all but the largest j counters count(u) <= k - 1\n",
    "        if sum(sorted(count.values())[:-j or None]) <= k - 1:\n",
    "            f_k[j] = t[i]\n",
    "        else:\n",
    "            j += 1\n",
    "            if j > 2 * tau:\n",
    "                # Return f_k(V, j), for j in [2*tau]\n",
    "                return f_k\n",
    "            else:\n",
    "                f_k[j] = t[i]\n",
    "\n",
    "        # Increment count(u) for the user u contributing t(i)\n",
    "        count[u[i]] += 1\n",
    "    return f_k"
   ]
  },
  {
   "cell_type": "code",
   "execution_count": 6,
   "id": "1b958ed9",
   "metadata": {},
   "outputs": [],
   "source": [
    "def shift_inverse(f_k, PARAM):\n",
    "    s = [-tau - 1] * PARAM[\"D\"]\n",
    "    for r in range(PARAM[\"D\"]):\n",
    "        if r == f_k[PARAM[\"tau\"]]:\n",
    "            s[r] = 0\n",
    "        else:\n",
    "            # Use binary search since f_k is in descending order\n",
    "            j = binary_search(f_k, r)\n",
    "            if j != -1:\n",
    "                if 1 <= j <= tau:\n",
    "                    s[r] = -tau + j - 1\n",
    "                elif tau < j <= 2 * tau:\n",
    "                    s[r] = tau - j\n",
    "\n",
    "    # Sample r from [D] with probability proportional to exp(epsilon / 2 * s(V, r)), denoted by r_tilde\n",
    "    p = np.array([np.exp(PARAM[\"epsilon\"] / 2 * s[r]) for r in range(PARAM[\"D\"])])\n",
    "    p /= p.sum()\n",
    "    r_tilde = np.random.choice(PARAM[\"D\"], p=p)\n",
    "\n",
    "    # Return M(V) = r_tilde\n",
    "    return r_tilde"
   ]
  },
  {
   "cell_type": "code",
   "execution_count": 7,
   "id": "d168f4cf",
   "metadata": {},
   "outputs": [],
   "source": [
    "def binary_search(f_k, r):\n",
    "    low, high = 1, 2 * tau\n",
    "    while low <= high:\n",
    "        mid = (low + high) // 2\n",
    "        if f_k[mid] < r <= f_k[mid - 1]:\n",
    "            return mid\n",
    "        elif r > f_k[mid - 1]:\n",
    "            high = mid - 1\n",
    "        else:\n",
    "            low = mid + 1\n",
    "    return -1"
   ]
  },
  {
   "cell_type": "code",
   "execution_count": 8,
   "id": "aa23d485",
   "metadata": {},
   "outputs": [],
   "source": [
    "def get_query_result():\n",
    "    \n",
    "    '''\n",
    "    Q18 for k-selection and sum\n",
    "    \n",
    "    sql = (\n",
    "        \"select c_custkey, l_quantity \"\n",
    "        \"from customer, orders, lineitem \"\n",
    "        \"where c_custkey = o_custkey \"\n",
    "        \"and l_orderkey = o_orderkey \"\n",
    "    )\n",
    "    '''\n",
    "    '''\n",
    "    #Q18 for count\n",
    "    sql = (\n",
    "        \"select c_custkey, 1 \"\n",
    "        \"from customer, orders, lineitem \"\n",
    "        \"where c_custkey = o_custkey \"\n",
    "        \"and l_orderkey = o_orderkey \"\n",
    "    )\n",
    "    '''\n",
    "    #Q12 for count\n",
    "    sql = (\n",
    "        \"select o_orderkey, 1 \"\n",
    "        \"from orders, lineitem \"\n",
    "        \"where o_orderkey = l_orderkey \"\n",
    "    )\n",
    "    \n",
    "\n",
    "\n",
    "    \n",
    "    \n",
    "    result = np.array(get_query_tuple(sql))\n",
    "    sorted_result = result[(-result[:, 1]).argsort()]\n",
    "    u, t = np.hsplit(sorted_result, 2)\n",
    "    u = u.flatten()\n",
    "    t = t.flatten()\n",
    "    t = t.astype(float)\n",
    "    return u, t"
   ]
  },
  {
   "cell_type": "code",
   "execution_count": 13,
   "id": "be356192",
   "metadata": {},
   "outputs": [],
   "source": [
    "#calculate error of k-selection\n",
    "def get_evaluation_error(t, r_tilde, percentile):\n",
    "    r = np.percentile(t, percentile)\n",
    "    relative_error = (r_tilde - r) / r\n",
    "    print(\"The relative_error when percentile = {} is: {}\".format(percentile, relative_error))\n",
    "    rank_error = 0\n",
    "    if relative_error != 0:\n",
    "        r_tilde_index = np.where(t == r_tilde)\n",
    "        rank_error = r_tilde_index[0][0] - math.ceil((100 - percentile) / 100 * len(t))\n",
    "    print(\"The rank error when percentile = {} is: {}\".format(percentile, rank_error))"
   ]
  },
  {
   "cell_type": "code",
   "execution_count": 9,
   "id": "51e51541",
   "metadata": {},
   "outputs": [],
   "source": [
    "# calculate error of count/sum\n",
    "def get_evaluation_error_count(t, r_tilde):\n",
    "    r = np.sum(t)\n",
    "    relative_error = (r_tilde - r) / r\n",
    "    print(\"The relative_error is: {}\".format(relative_error))"
   ]
  },
  {
   "cell_type": "code",
   "execution_count": 14,
   "id": "65c9a44a",
   "metadata": {},
   "outputs": [
    {
     "name": "stdout",
     "output_type": "stream",
     "text": [
      "The result r_tidle is:1\n",
      "The relative_error when percentile = 50 is: 0.0\n",
      "The rank error when percentile = 50 is: 0\n",
      "test\n"
     ]
    }
   ],
   "source": [
    "# main of k-selection\n",
    "PARAM = {\n",
    "    \"beta\": 1 / 3,\n",
    "    \"epsilon\": 1,\n",
    "    \"D\": pow(10, 5)\n",
    "}\n",
    "tau = math.ceil(2 * PARAM[\"epsilon\"] * math.log((PARAM[\"D\"] + 1) / PARAM[\"beta\"]))\n",
    "PARAM[\"tau\"] = tau\n",
    "user, query_tuple = get_query_result()\n",
    "count = {u: 0 for u in np.unique(user)}\n",
    "# k_selection when maximum\n",
    "# f_k = k_selection(k=1, count=count, t=query_tuple, u=user, tau=PARAM[\"tau\"])\n",
    "# k_selection when percentile = 25\n",
    "#f_k = k_selection(k=math.ceil(75 / 100 * len(query_tuple)), count=count, t=query_tuple, u=user, tau=PARAM[\"tau\"])\n",
    "# k_selection when percentile = 50\n",
    "f_k = k_selection(k=math.ceil(50 / 100 * len(query_tuple)), count=count, t=query_tuple, u=user, tau=PARAM[\"tau\"])\n",
    "# k_selection when percentile = 75\n",
    "# f_k = k_selection(k=math.ceil(25 / 100 * len(query_tuple)), count=count, t=query_tuple, u=user, tau=PARAM[\"tau\"])\n",
    "# get r_tilde\n",
    "r_tilde = shift_inverse(f_k=f_k, PARAM=PARAM)\n",
    "print(\"The result r_tidle is:{}\".format(r_tilde))\n",
    "# evaluate rank_error and relative error\n",
    "get_evaluation_error(t=query_tuple, r_tilde=r_tilde, percentile=50)\n",
    "print(\"test\")"
   ]
  },
  {
   "cell_type": "code",
   "execution_count": 15,
   "id": "725b25c7",
   "metadata": {},
   "outputs": [
    {
     "name": "stdout",
     "output_type": "stream",
     "text": [
      "The result r_tidle is:74223\n",
      "The relative_error is: -0.5048730212731893\n",
      "test\n"
     ]
    }
   ],
   "source": [
    "# main of count/sum\n",
    "PARAM = {\n",
    "    \"beta\": 1 / 3,\n",
    "    \"epsilon\": 4,\n",
    "    \"D\": pow(10, 5)\n",
    "}\n",
    "tau = math.ceil(2 * PARAM[\"epsilon\"] * math.log((PARAM[\"D\"] + 1) / PARAM[\"beta\"]))\n",
    "PARAM[\"tau\"] = tau\n",
    "user, query_tuple = get_query_result()\n",
    "f = countSum(t=query_tuple, tau=PARAM[\"tau\"])\n",
    "r_tilde = shift_inverse(f_k=f, PARAM=PARAM)\n",
    "print(\"The result r_tidle is:{}\".format(r_tilde))\n",
    "get_evaluation_error_count(t=query_tuple, r_tilde=r_tilde)\n",
    "print(\"test\")"
   ]
  },
  {
   "cell_type": "code",
   "execution_count": null,
   "id": "8a8d1686",
   "metadata": {},
   "outputs": [],
   "source": []
  }
 ],
 "metadata": {
  "kernelspec": {
   "display_name": "Python 3 (ipykernel)",
   "language": "python",
   "name": "python3"
  },
  "language_info": {
   "codemirror_mode": {
    "name": "ipython",
    "version": 3
   },
   "file_extension": ".py",
   "mimetype": "text/x-python",
   "name": "python",
   "nbconvert_exporter": "python",
   "pygments_lexer": "ipython3",
   "version": "3.9.13"
  }
 },
 "nbformat": 4,
 "nbformat_minor": 5
}
